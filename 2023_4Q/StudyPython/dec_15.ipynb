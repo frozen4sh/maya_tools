{
 "cells": [
  {
   "cell_type": "code",
   "execution_count": 4,
   "metadata": {},
   "outputs": [
    {
     "name": "stdout",
     "output_type": "stream",
     "text": [
      "Justin이 생성 되었습니다.\n",
      "생성된 사람이름은 Justin입니다.\n"
     ]
    }
   ],
   "source": [
    "class Personal():\n",
    "    def __init__(self,name):\n",
    "        print(f'{name}이 생성 되었습니다.')\n",
    "        \n",
    "    def print_record(self,name):\n",
    "        print(f'생성된 사람이름은 {name}입니다.')\n",
    "\n",
    "h1 = Personal('Justin')\n",
    "h1.print_record('Justin')\n",
    "\n",
    "\n"
   ]
  },
  {
   "cell_type": "code",
   "execution_count": 1,
   "metadata": {},
   "outputs": [
    {
     "name": "stdout",
     "output_type": "stream",
     "text": [
      "3\n",
      "1\n",
      "20\n",
      "3\n"
     ]
    }
   ],
   "source": [
    "class Address:\n",
    "    a = 1\n",
    "    b = 2\n",
    "    def __init__(self):\n",
    "        self.a = 3\n",
    "        self.b = 4\n",
    "\n",
    "\n",
    "addr = Address()\n",
    "print(addr.a)\n",
    "print(Address.a)\n",
    "addr.a = 10 + 10\n",
    "print(addr.a)\n",
    "\n",
    "addr = Address()\n",
    "print(addr.a)"
   ]
  },
  {
   "cell_type": "code",
   "execution_count": 10,
   "metadata": {},
   "outputs": [
    {
     "name": "stdout",
     "output_type": "stream",
     "text": [
      "기경훈이 생성 되었습니다.\n",
      "경\n",
      "생성된 사람이름은 기경훈입니다.\n"
     ]
    }
   ],
   "source": [
    "class Personal():\n",
    "    def __init__(self,name):\n",
    "        print(f'{name}이 생성 되었습니다.')\n",
    "        \n",
    "    def print_record(self,name):\n",
    "        a = name[1] \n",
    "        print(a)\n",
    "        print(f'생성된 사람이름은 {name}입니다.')\n",
    "\n",
    "h1 = Personal('기경훈')\n",
    "h1.print_record('기경훈')\n"
   ]
  }
 ],
 "metadata": {
  "kernelspec": {
   "display_name": "Python 3",
   "language": "python",
   "name": "python3"
  },
  "language_info": {
   "codemirror_mode": {
    "name": "ipython",
    "version": 3
   },
   "file_extension": ".py",
   "mimetype": "text/x-python",
   "name": "python",
   "nbconvert_exporter": "python",
   "pygments_lexer": "ipython3",
   "version": "3.11.6"
  }
 },
 "nbformat": 4,
 "nbformat_minor": 2
}
