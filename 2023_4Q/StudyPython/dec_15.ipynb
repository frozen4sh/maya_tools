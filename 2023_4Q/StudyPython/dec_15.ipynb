{
 "cells": [
  {
   "cell_type": "code",
   "execution_count": 4,
   "metadata": {},
   "outputs": [
    {
     "name": "stdout",
     "output_type": "stream",
     "text": [
      "Justin이 생성 되었습니다.\n",
      "생성된 사람이름은 Justin입니다.\n"
     ]
    }
   ],
   "source": [
    "class Personal():\n",
    "    def __init__(self,name):\n",
    "        print(f'{name}이 생성 되었습니다.')\n",
    "        \n",
    "    def print_record(self,name):\n",
    "        print(f'생성된 사람이름은 {name}입니다.')\n",
    "\n",
    "h1 = Personal('Justin')\n",
    "h1.print_record('Justin')\n",
    "\n",
    "\n"
   ]
  },
  {
   "cell_type": "code",
   "execution_count": 1,
   "metadata": {},
   "outputs": [
    {
     "name": "stdout",
     "output_type": "stream",
     "text": [
      "3\n",
      "1\n",
      "20\n",
      "3\n"
     ]
    }
   ],
   "source": [
    "class Address:\n",
    "    a = 1\n",
    "    b = 2\n",
    "    def __init__(self):\n",
    "        self.a = 3\n",
    "        self.b = 4\n",
    "\n",
    "\n",
    "addr = Address()\n",
    "print(addr.a)\n",
    "print(Address.a)\n",
    "addr.a = 10 + 10\n",
    "print(addr.a)\n",
    "\n",
    "addr = Address()\n",
    "print(addr.a)"
   ]
  },
  {
   "cell_type": "code",
   "execution_count": 14,
   "metadata": {},
   "outputs": [
    {
     "name": "stdout",
     "output_type": "stream",
     "text": [
      "re.compile('[a-z]+')\n",
      "<re.Match object; span=(2, 8), match='python'>\n"
     ]
    }
   ],
   "source": [
    "\n",
    "import re\n",
    "p = re.compile('[a-z]+')\n",
    "m = p.search('5 python')\n",
    "\n",
    "print (p)\n",
    "print (m)\n",
    "# m.start() + m.end()\n"
   ]
  },
  {
   "cell_type": "code",
   "execution_count": null,
   "metadata": {},
   "outputs": [],
   "source": [
    "import maya.cmds as cmds\n",
    "\n",
    "try:\n",
    "    def toggle_display_type(obj):\n",
    "        # Check if the override is already created\n",
    "        override_exists = cmds.attributeQuery('overrideDisplayType', node=obj, exists=True)\n",
    "\n",
    "        if not override_exists:\n",
    "            # Create the override\n",
    "            cmds.addAttr(obj, longName='overrideDisplayType', attributeType='long', defaultValue=0, hidden=False, keyable=True)\n",
    "\n",
    "        # Get the current value of overrideDisplayType\n",
    "        current_value = cmds.getAttr(obj + '.overrideDisplayType')\n",
    "        print(current_value)\n",
    "\n",
    "        # Toggle between 0 and 2\n",
    "        new_value = 2 if current_value == 0 else 0\n",
    "\n",
    "        # Set the new override value\n",
    "        cmds.setAttr(obj + '.overrideDisplayType', new_value)\n",
    "        print(f\"{obj}: overrideDisplayType toggled to {new_value}\")\n",
    "\n",
    "    # Assuming you have an object selected or specified\n",
    "    selected_objects = cmds.ls(selection=True)\n",
    "\n",
    "    if selected_objects:\n",
    "        for obj in selected_objects:\n",
    "            toggle_display_type(obj)\n",
    "    else:\n",
    "        print(\"Please select an object.\")\n",
    "\n",
    "except Exception as e:\n",
    "    print(f\"Error: {e}\")"
   ]
  },
  {
   "cell_type": "code",
   "execution_count": 10,
   "metadata": {},
   "outputs": [
    {
     "name": "stdout",
     "output_type": "stream",
     "text": [
      "기경훈이 생성 되었습니다.\n",
      "경\n",
      "생성된 사람이름은 기경훈입니다.\n"
     ]
    }
   ],
   "source": [
    "class Personal():\n",
    "    def __init__(self,name):\n",
    "        print(f'{name}이 생성 되었습니다.')\n",
    "        \n",
    "    def print_record(self,name):\n",
    "        a = name[1] \n",
    "        print(a)\n",
    "        print(f'생성된 사람이름은 {name}입니다.')\n",
    "\n",
    "h1 = Personal('기경훈')\n",
    "h1.print_record('기경훈')\n"
   ]
  }
 ],
 "metadata": {
  "kernelspec": {
   "display_name": "Python 3",
   "language": "python",
   "name": "python3"
  },
  "language_info": {
   "codemirror_mode": {
    "name": "ipython",
    "version": 3
   },
   "file_extension": ".py",
   "mimetype": "text/x-python",
   "name": "python",
   "nbconvert_exporter": "python",
   "pygments_lexer": "ipython3",
   "version": "3.11.6"
  }
 },
 "nbformat": 4,
 "nbformat_minor": 2
}
