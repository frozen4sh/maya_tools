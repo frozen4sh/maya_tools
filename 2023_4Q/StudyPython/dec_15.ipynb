{
 "cells": [
  {
   "cell_type": "code",
   "execution_count": 4,
   "metadata": {},
   "outputs": [
    {
     "name": "stdout",
     "output_type": "stream",
     "text": [
      "Justin이 생성 되었습니다.\n",
      "생성된 사람이름은 Justin입니다.\n"
     ]
    }
   ],
   "source": [
    "class Personal():\n",
    "    def __init__(self,name):\n",
    "        print(f'{name}이 생성 되었습니다.')\n",
    "        \n",
    "    def print_record(self,name):\n",
    "        print(f'생성된 사람이름은 {name}입니다.')\n",
    "\n",
    "h1 = Personal('Justin')\n",
    "h1.print_record('Justin')\n",
    "\n",
    "\n"
   ]
  },
  {
   "cell_type": "code",
   "execution_count": null,
   "metadata": {},
   "outputs": [],
   "source": [
    "class Personal():\n",
    "    def __init__(self,name):\n",
    "        print(f'{name}이 생성 되었습니다.')\n",
    "        \n",
    "    def print_record(self,name):\n",
    "        print(f'생성된 사람이름은 {name}입니다.')\n",
    "\n",
    "h1 = Personal('Justin')\n",
    "h1.print_record('Justin')\n"
   ]
  }
 ],
 "metadata": {
  "kernelspec": {
   "display_name": "Python 3",
   "language": "python",
   "name": "python3"
  },
  "language_info": {
   "codemirror_mode": {
    "name": "ipython",
    "version": 3
   },
   "file_extension": ".py",
   "mimetype": "text/x-python",
   "name": "python",
   "nbconvert_exporter": "python",
   "pygments_lexer": "ipython3",
   "version": "3.11.6"
  }
 },
 "nbformat": 4,
 "nbformat_minor": 2
}
