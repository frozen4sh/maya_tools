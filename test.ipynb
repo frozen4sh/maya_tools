{
 "cells": [
  {
   "cell_type": "code",
   "execution_count": 2,
   "metadata": {},
   "outputs": [
    {
     "name": "stdout",
     "output_type": "stream",
     "text": [
      "It's 3 o'clock\n",
      "From 9 AM To 6 PM.\n",
      "From 9 AM To Six PM.\n"
     ]
    }
   ],
   "source": [
    "# 문자열 포맷 이용하기\n",
    "# 문자열 안에서는 %를 사용하여 원하는 변수의 값을 문자열에 포함시킬 수 있다.\n",
    "str_f1 = \"It's %d o'clock\" % 3\n",
    "print(str_f1)\n",
    "\n",
    "# {} 기호를 이용하면 자료형에 상관없이 삽입이 가능하다.\n",
    "str_f2 = \"From {} AM To {} PM.\".format(9, 6)\n",
    "str_f3 = \"From {} AM To {} PM.\".format(9, 'Six')\n",
    "print(str_f2)\n",
    "print(str_f3)"
   ]
  },
  {
   "cell_type": "code",
   "execution_count": 3,
   "metadata": {},
   "outputs": [
    {
     "name": "stdout",
     "output_type": "stream",
     "text": [
      "a is 3.141592\n",
      "a is 3.1416\n",
      "a is 3.142\n"
     ]
    }
   ],
   "source": [
    "# 소수점 표현하기\n",
    "a = 3.141592\n",
    "str_f4 = \"a is {}\".format(a)\n",
    "print(str_f4)\n",
    "str_f5 = \"a is {:0.4f}\".format(a) # 소수점 4자리까지 표현\n",
    "print(str_f5)\n",
    "str_f6 = \"a is %0.3f\" %a # 소수점 3자리까지 표현\n",
    "print(str_f6)\n"
   ]
  },
  {
   "cell_type": "code",
   "execution_count": 4,
   "metadata": {},
   "outputs": [
    {
     "name": "stdout",
     "output_type": "stream",
     "text": [
      "Hello에서 l의 개수 :  2\n",
      "find 함수로 'Hello'에서 e의 위치 찾기 :  1\n",
      "index 함수로 'Hello'에서 e의 위치 찾기 :  1\n",
      "\n",
      "\n"
     ]
    }
   ],
   "source": [
    "# 문자 개수 세기\n",
    "str1 = 'Hello'\n",
    "count_hello = str1.count('l') \n",
    "print('Hello에서 l의 개수 : ', count_hello)\n",
    "\n",
    "# 위치 찾기\n",
    "find_e = str1.find('e')\n",
    "index_e = str1.index('e')\n",
    "print(\"find 함수로 'Hello'에서 e의 위치 찾기 : \", find_e)\n",
    "print(\"index 함수로 'Hello'에서 e의 위치 찾기 : \", index_e)\n",
    "print('\\n')"
   ]
  },
  {
   "cell_type": "code",
   "execution_count": 5,
   "metadata": {},
   "outputs": [
    {
     "name": "stdout",
     "output_type": "stream",
     "text": [
      "hello_list :  ['H', 'e', 'l', 'l', 'o']\n",
      "element 사이에 콤마 넣어서 합치기 :  H,e,l,l,o\n",
      "element 사이에 구분자 없이 합치기 :  Hello\n",
      "\n",
      "\n",
      "Hello를 모두 대문자로 전환 :  HELLO\n",
      "Hello를 모두 소문자로 전환 :  hello\n",
      "\n",
      "\n"
     ]
    }
   ],
   "source": [
    "# 문자열 합치기\n",
    "hello_list = ['H', 'e', 'l', 'l', 'o'] # 5개의 캐릭터로 이루어진 리스트 변수 선언\n",
    "print('hello_list : ', hello_list)\n",
    "join_hello1 = ','.join(hello_list) # hello_list의 요소들 사이에 ',' 구분자를 넣어서 합치기\n",
    "join_hello2 = ''.join(hello_list) # hello_list의 요소들 사이에 구분자 없이 합치기\n",
    "print('element 사이에 콤마 넣어서 합치기 : ', join_hello1)\n",
    "print('element 사이에 구분자 없이 합치기 : ', join_hello2)\n",
    "print('\\n')\n",
    "\n",
    "# 대소문자 변환\n",
    "upper_hello = str1.upper()\n",
    "lower_hello = str1.lower()\n",
    "print('Hello를 모두 대문자로 전환 : ', upper_hello)\n",
    "print('Hello를 모두 소문자로 전환 : ', lower_hello)\n",
    "print('\\n')"
   ]
  },
  {
   "cell_type": "code",
   "execution_count": 6,
   "metadata": {},
   "outputs": [
    {
     "name": "stdout",
     "output_type": "stream",
     "text": [
      "Hi \n",
      " Hi\n",
      "Hi\n",
      "\n",
      "\n",
      "Python is great\n",
      "['That', 'is', 'great']\n",
      "['Th', 't is gre', 't']\n"
     ]
    }
   ],
   "source": [
    "# 공백 지우기\n",
    "a = \" Hi \"\n",
    "print(a.lstrip())\n",
    "print(a.rstrip())\n",
    "print(a.strip())\n",
    "print('\\n')\n",
    "\n",
    "# 문자열 바꾸기\n",
    "b = \"That is great\"\n",
    "c = b.replace('That', 'Python')\n",
    "print(c)\n",
    "\n",
    "# 문자열 나누기\n",
    "print(b.split(' ')) # 띄어쓰기 기준으로 나누기\n",
    "print(b.split('a')) # a 기준으로 나누기"
   ]
  },
  {
   "cell_type": "code",
   "execution_count": 7,
   "metadata": {},
   "outputs": [
    {
     "name": "stdout",
     "output_type": "stream",
     "text": [
      "emptyList =  []\n",
      "numList =  [1, 2, 3]\n",
      "strList =  ['This', 'is', 'a list']\n",
      "<class 'list'> \n",
      "\n",
      "numList의 3번째 요소 :  3 \n",
      "\n"
     ]
    }
   ],
   "source": [
    "# 리스트변수명 = [요소1, 요소2, ...]\n",
    "emptyList = []\n",
    "numList = [1, 2, 3]\n",
    "strList = ['This', 'is', 'a list']\n",
    "print('emptyList = ', emptyList)\n",
    "print('numList = ', numList)\n",
    "print('strList = ', strList)\n",
    "print(type(numList), '\\n') # 변수 타입 확인하기\n",
    "\n",
    "# 리스트 요소 접근하기\n",
    "print('numList의 3번째 요소 : ', numList[2], '\\n')"
   ]
  },
  {
   "cell_type": "code",
   "execution_count": 8,
   "metadata": {},
   "outputs": [
    {
     "name": "stdout",
     "output_type": "stream",
     "text": [
      "1 <class 'int'>\n",
      "3.14 <class 'float'>\n",
      "Python <class 'str'>\n",
      "['Java', 'C'] <class 'list'>\n",
      "Java <class 'str'>\n"
     ]
    }
   ],
   "source": [
    "# 리스트 안에는 어떠한 자료형도 포함 가능하다.\n",
    "anylist = [1, 3.14, 'Python', ['Java', 'C']]\n",
    "print(anylist[0], type(anylist[0]))\n",
    "print(anylist[1], type(anylist[1]))\n",
    "print(anylist[2], type(anylist[2]))\n",
    "print(anylist[3], type(anylist[3]))\n",
    "print(anylist[3][0], type(anylist[3][0])) "
   ]
  },
  {
   "cell_type": "code",
   "execution_count": 9,
   "metadata": {},
   "outputs": [
    {
     "name": "stdout",
     "output_type": "stream",
     "text": [
      "sumList =  [1, 2, 3, 'This', 'is', 'a list']\n",
      "mulList =  [1, 2, 3, 1, 2, 3]\n",
      "\n",
      "\n",
      "numList2 =  [2, 4, 6]\n",
      "numList2 =  [2, 5, 6]\n",
      "numList2 =  [2, 6]\n"
     ]
    }
   ],
   "source": [
    "# 더하기(+)와 반복하기(*)\n",
    "sumList = numList + strList\n",
    "print('sumList = ', sumList)\n",
    "mulList = numList * 2 \n",
    "print('mulList = ', mulList)\n",
    "print('\\n')\n",
    "\n",
    "# 리스트 수정, 삭제\n",
    "numList2 = [2, 4, 6]\n",
    "print('numList2 = ', numList2)\n",
    "numList2[1] = 5 # 두 번째 요소 수정\n",
    "print('numList2 = ', numList2)\n",
    "del numList2[1] # 두 번째 요소 삭제\n",
    "print('numList2 = ', numList2)"
   ]
  },
  {
   "cell_type": "code",
   "execution_count": 10,
   "metadata": {},
   "outputs": [
    {
     "name": "stdout",
     "output_type": "stream",
     "text": [
      "numList1 =  [3, 6, 9]  의 길이는  3 \n",
      "\n"
     ]
    }
   ],
   "source": [
    "# 리스트 길이\n",
    "# 리스트 길이를 재는 함수 len()은 머신러닝에서 필수적인 함수이므로 꼭 숙지할 것\n",
    "numList1 = [1, 2, 1, 4, 5]\n",
    "numList2 = [3, 6, 9]\n",
    "len(numList1)\n",
    "print('numList1 = ', numList2, ' 의 길이는 ', len(numList2), '\\n')"
   ]
  },
  {
   "cell_type": "code",
   "execution_count": 11,
   "metadata": {},
   "outputs": [
    {
     "name": "stdout",
     "output_type": "stream",
     "text": [
      "numList1에서 1의 개수는  2 \n",
      "\n",
      "numList1에 7이 추가됨 =>  [1, 2, 1, 4, 5, 7]\n",
      "append 함수로 numList2의 끝에 배열 [7, 8]이 통째로 추가됨 =>  [3, 6, 9, [7, 8]]\n",
      "extend 함수로 numList2의 끝에 배열 [7, 8]의 요소들이 추가됨 =>  [3, 6, 9, [7, 8], 7, 8]\n",
      "insert 함수로 numList1의 첫 index에 배열 [7, 8]이 추가됨 =>  [[7, 8], 1, 2, 1, 4, 5, 7]\n",
      "\n",
      "\n"
     ]
    }
   ],
   "source": [
    "# 리스트의 요소 개수 \n",
    "numList1.count(1)\n",
    "print('numList1에서 1의 개수는 ', numList1.count(1), '\\n')\n",
    "\n",
    "# 리스트 확장 및 요소 추가\n",
    "# append는 리스트 끝에 인자로 전달된 변수를 그대로 추가한다.\n",
    "# extend는 인자로 전달된 iterable의 모든 요소를 리스트에 추가한다.\n",
    "# insert는 인자로 전달된 index의 위치에 요소를 추가한다.\n",
    "# append, extend, insert 모두 리스트를 확장하는 함수로,\n",
    "# 혼동하기 쉬우니 아래 예시를 통해 숙지하도록 한다\n",
    "\n",
    "numList1.append(7) \n",
    "print('numList1에 7이 추가됨 => ', numList1)\n",
    "numList2.append([7, 8])\n",
    "print('append 함수로 numList2의 끝에 배열 [7, 8]이 통째로 추가됨 => ', numList2)\n",
    "numList2.extend([7, 8])\n",
    "print('extend 함수로 numList2의 끝에 배열 [7, 8]의 요소들이 추가됨 => ', numList2)\n",
    "numList1.insert(0, [7, 8])\n",
    "print('insert 함수로 numList1의 첫 index에 배열 [7, 8]이 추가됨 => ', numList1)\n",
    "print('\\n')"
   ]
  },
  {
   "cell_type": "code",
   "execution_count": 2,
   "metadata": {},
   "outputs": [
    {
     "ename": "TypeError",
     "evalue": "'<' not supported between instances of 'int' and 'str'",
     "output_type": "error",
     "traceback": [
      "\u001b[1;31m---------------------------------------------------------------------------\u001b[0m",
      "\u001b[1;31mTypeError\u001b[0m                                 Traceback (most recent call last)",
      "\u001b[1;32md:\\Justin\\Python\\VIVE_Python\\test.ipynb Cell 11\u001b[0m line \u001b[0;36m1\n\u001b[0;32m     <a href='vscode-notebook-cell:/d%3A/Justin/Python/VIVE_Python/test.ipynb#X13sZmlsZQ%3D%3D?line=9'>10</a>\u001b[0m \u001b[39m# Combine the lists and convert numbers to strings\u001b[39;00m\n\u001b[0;32m     <a href='vscode-notebook-cell:/d%3A/Justin/Python/VIVE_Python/test.ipynb#X13sZmlsZQ%3D%3D?line=10'>11</a>\u001b[0m combined_list \u001b[39m=\u001b[39m numList3 \u001b[39m+\u001b[39m numbers_as_strings\n\u001b[1;32m---> <a href='vscode-notebook-cell:/d%3A/Justin/Python/VIVE_Python/test.ipynb#X13sZmlsZQ%3D%3D?line=12'>13</a>\u001b[0m combined_list\u001b[39m.\u001b[39;49msort()\n\u001b[0;32m     <a href='vscode-notebook-cell:/d%3A/Justin/Python/VIVE_Python/test.ipynb#X13sZmlsZQ%3D%3D?line=13'>14</a>\u001b[0m \u001b[39mprint\u001b[39m(\u001b[39m'\u001b[39m\u001b[39mnumList3 오름차순 정렬 : \u001b[39m\u001b[39m'\u001b[39m, combined_list)\n\u001b[0;32m     <a href='vscode-notebook-cell:/d%3A/Justin/Python/VIVE_Python/test.ipynb#X13sZmlsZQ%3D%3D?line=14'>15</a>\u001b[0m combined_list\u001b[39m.\u001b[39msort(reverse\u001b[39m=\u001b[39m\u001b[39mTrue\u001b[39;00m)\n",
      "\u001b[1;31mTypeError\u001b[0m: '<' not supported between instances of 'int' and 'str'"
     ]
    }
   ],
   "source": [
    "# 리스트 정렬\n",
    "# sort함수는 기본적으로 오름차순(reverse=False)이 default이다.\n",
    "# 내림차순으로 정렬하고 싶다면 reverse=True를 인자로 주면 된다.\n",
    "numList3 = ['황예훈', 'Justin', '고영민', '이영석', '황옛춘']\n",
    "numbers = [1, 2, 3, 4, 5]\n",
    "\n",
    "# Convert numbers to strings\n",
    "numbers_as_strings = [str(num) for num in numbers]\n",
    "\n",
    "# Combine the lists and convert numbers to strings\n",
    "combined_list = numList3 + numbers_as_strings\n",
    "\n",
    "combined_list.sort()\n",
    "print('numList3 오름차순 정렬 : ', combined_list)\n",
    "combined_list.sort(reverse=True)\n",
    "print('numList3 내림차순 정렬 : ', combined_list)\n",
    "print('\\n')"
   ]
  },
  {
   "cell_type": "code",
   "execution_count": null,
   "metadata": {},
   "outputs": [
    {
     "name": "stdout",
     "output_type": "stream",
     "text": [
      "numList4 순서 뒤집기 =>  [3, 2, 7, 4, 6, 7, 10] \n",
      "\n"
     ]
    }
   ],
   "source": [
    "# 리스트 순서 뒤집기\n",
    "numList4 = [10, 7, 6, 4, 7, 2, 3]\n",
    "numList4.reverse()\n",
    "print('numList4 순서 뒤집기 => ', numList4, '\\n')"
   ]
  },
  {
   "cell_type": "code",
   "execution_count": null,
   "metadata": {},
   "outputs": [],
   "source": []
  }
 ],
 "metadata": {
  "kernelspec": {
   "display_name": "Python 3",
   "language": "python",
   "name": "python3"
  },
  "language_info": {
   "codemirror_mode": {
    "name": "ipython",
    "version": 3
   },
   "file_extension": ".py",
   "mimetype": "text/x-python",
   "name": "python",
   "nbconvert_exporter": "python",
   "pygments_lexer": "ipython3",
   "version": "3.11.6"
  }
 },
 "nbformat": 4,
 "nbformat_minor": 2
}
